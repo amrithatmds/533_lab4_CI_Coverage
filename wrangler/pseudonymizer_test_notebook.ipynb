{
 "cells": [
  {
   "cell_type": "markdown",
   "metadata": {},
   "source": [
    "***The tests below check the k-value and the max prabability for l-diversity when the default classification provided by the suggest function is used.***\n",
    "*** Dataset used: testDataset.csv***"
   ]
  },
  {
   "cell_type": "code",
   "execution_count": 9,
   "metadata": {},
   "outputs": [
    {
     "name": "stdout",
     "output_type": "stream",
     "text": [
      "['DOB', 'postal_code']\n",
      "K-value for the dataset is:  3\n"
     ]
    }
   ],
   "source": [
    "from pseudonymizer import anonymizer as kcounter\n",
    "import pandas as pd\n",
    "\n",
    "iden = kcounter.Anonymizer(\"k_anon\", \"counter\")\n",
    "df = pd.read_csv(\"testDataset.csv\")   # sample testfile \n",
    "classes = iden.suggest(df.columns)\n",
    "quasis = classes['qId']               # Get all the quasi identifier columns as suggested by the suggest function\n",
    "print (quasis)\n",
    "kcount = iden.kcounter(df, quasis)\n",
    "print (\"K-value for the dataset is: \", kcount)"
   ]
  },
  {
   "cell_type": "code",
   "execution_count": 7,
   "metadata": {},
   "outputs": [
    {
     "name": "stdout",
     "output_type": "stream",
     "text": [
      "Max Probability for l-diversity is: 0.3333333333333333\n"
     ]
    }
   ],
   "source": [
    "from pseudonymizer import evaluator as ldiversity\n",
    "\n",
    "classes = ldiv.suggest(df.columns)\n",
    "sensitives = classes['sensId']\n",
    "quasis = classes['qId']\n",
    "maxProb = ldiv.ldivMaxProb(df, quasis, sensitives)\n",
    "print (\"Max Probability for l-diversity is:\", maxProb)"
   ]
  },
  {
   "cell_type": "markdown",
   "metadata": {},
   "source": [
    "***The tests below check the k-value and the max prabability for l-diversity when user provides the classification***   \n",
    "*** Dataset used: creditcard.csv***"
   ]
  },
  {
   "cell_type": "code",
   "execution_count": 15,
   "metadata": {},
   "outputs": [
    {
     "name": "stdout",
     "output_type": "stream",
     "text": [
      "K-value for the dataset is:  2\n"
     ]
    }
   ],
   "source": [
    "from pseudonymizer import anonymizer as kcounter\n",
    "\n",
    "iden = kcounter.Anonymizer(\"k_anon\", \"counter\")\n",
    "quasis = ['DOB', 'postal_code', 'Sex']\n",
    "iden.setQuasiId(quasis)\n",
    "df = pd.read_csv(\"creditcard.csv\")   # sample testfile \n",
    "kcount = iden.kcounter(df, quasis)\n",
    "print (\"K-value for the dataset is: \", kcount)"
   ]
  },
  {
   "cell_type": "code",
   "execution_count": 16,
   "metadata": {},
   "outputs": [
    {
     "name": "stdout",
     "output_type": "stream",
     "text": [
      "Max Probability for l-diversity is: 0.5\n"
     ]
    }
   ],
   "source": [
    "from pseudonymizer import evaluator as ldiversity\n",
    "\n",
    "ldiv = ldiversity.Ldiversity('l_diversity', 'counter')\n",
    "sensId = ['credit_security_code']\n",
    "ldiv.setSensitiveId(sensId)\n",
    "quasis = ['DOB', 'postal_code', 'Sex']\n",
    "ldiv.setQuasiId(quasis)\n",
    "maxProb = ldiv.ldivMaxProb(df, quasis, sensId)\n",
    "print (\"Max Probability for l-diversity is:\", maxProb)"
   ]
  }
 ],
 "metadata": {
  "kernelspec": {
   "display_name": "Python 3",
   "language": "python",
   "name": "python3"
  },
  "language_info": {
   "codemirror_mode": {
    "name": "ipython",
    "version": 3
   },
   "file_extension": ".py",
   "mimetype": "text/x-python",
   "name": "python",
   "nbconvert_exporter": "python",
   "pygments_lexer": "ipython3",
   "version": "3.6.5"
  }
 },
 "nbformat": 4,
 "nbformat_minor": 2
}
