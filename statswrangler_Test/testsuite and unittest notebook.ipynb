{
 "cells": [
  {
   "cell_type": "markdown",
   "metadata": {},
   "source": [
    "# unittest 1\n",
    "\n",
    "* Testing the outlierdrop.py file originaly in the statswranger module"
   ]
  },
  {
   "cell_type": "code",
   "execution_count": 61,
   "metadata": {
    "collapsed": true
   },
   "outputs": [],
   "source": [
    "import statswrangler.outlierdrop as od\n",
    "import pandas as pd\n",
    "\n",
    "import unittest\n",
    "from pandas.util.testing import assert_frame_equal #this has to be imported to check dataframes"
   ]
  },
  {
   "cell_type": "markdown",
   "metadata": {},
   "source": [
    "# importing data\n",
    "* I imported dataframes that would be used to check the module"
   ]
  },
  {
   "cell_type": "code",
   "execution_count": 62,
   "metadata": {
    "collapsed": true
   },
   "outputs": [],
   "source": [
    "df = pd.read_csv(\"train.csv\")\n",
    "\n",
    "#data cleaning for test case checking later\n",
    "\n",
    "df = df[0:100] #dataframe (will only use a subset dataset too big)\n",
    "\n",
    "df = df.drop(\"PoolQC\", axis = 1) #drop this columns since mostly NaN's\n",
    "\n",
    "s1 = df[\"SalePrice\"] #series 1 using column SalePrice\n",
    "s2 = df[\"LotArea\"] #series 2 using LotArea\n",
    "\n",
    "\n",
    "#nooutliers1 and nooutliers2 will be used in our check cases\n",
    "\n",
    "nooutliers1 = pd.read_csv(\"withnooutliers.csv\", index_col = \"Unnamed: 0\")\n",
    "#this dataset has already been cleaned so that outliers in SalePrice columnn have been removed\n",
    "nooutliers1 = nooutliers1.drop(\"PoolQC\", axis =1) #remove the PoolQC column since mostly NaN's\n",
    "\n",
    "\n",
    "#nooutliers2 will refer to the testcase where threshold is 2\n",
    "#this only removes 2 out of the 3 outliers in the dataset\n",
    "#this dataset has the outliers in SalePrice columnn removed\n",
    "nooutliers2 = pd.read_csv(\"withnooutliers2.csv\",index_col = \"Unnamed: 0\")\n"
   ]
  },
  {
   "cell_type": "code",
   "execution_count": 63,
   "metadata": {},
   "outputs": [
    {
     "name": "stderr",
     "output_type": "stream",
     "text": [
      "test_DropOutliers (__main__.TestOutlierdrop) ... ok\n",
      "test_Outliers (__main__.TestOutlierdrop) ... ok\n",
      "test_SplitTrain (__main__.TestTraining) ... "
     ]
    },
    {
     "name": "stdout",
     "output_type": "stream",
     "text": [
      "setUpClass\n",
      "Set Up\n",
      "Tear Down\n",
      "Set Up\n",
      "Tear Down\n",
      "teardownClass\n",
      "setUpClass\n",
      "Set Up\n",
      "Tear Down\n",
      "teardownClass\n"
     ]
    },
    {
     "name": "stderr",
     "output_type": "stream",
     "text": [
      "ok\n",
      "\n",
      "----------------------------------------------------------------------\n",
      "Ran 3 tests in 0.267s\n",
      "\n",
      "OK\n"
     ]
    },
    {
     "data": {
      "text/plain": [
       "<unittest.main.TestProgram at 0x1147e1e48>"
      ]
     },
     "execution_count": 63,
     "metadata": {},
     "output_type": "execute_result"
    }
   ],
   "source": [
    "class TestOutlierdrop(unittest.TestCase):\n",
    "    @classmethod\n",
    "    def setUpClass(cls):\n",
    "        print(\"setUpClass\")\n",
    "    \n",
    "    def setUp(self):\n",
    "        self.d1 = od.Data(s1,df)\n",
    "        self.d2 = od.Data(s2,df)\n",
    "        self.d3 = od.Dropped(s1,df)\n",
    "        self.d4 = od.Dropped(s2,df)\n",
    "        self.d5 = od.Dropped(s1,df, threshold = 2) #with threshold = 2\n",
    "        \n",
    "        self.a1, self.b1 = self.d1.Outliers() \n",
    "        \n",
    "        \n",
    "        print('Set Up')\n",
    "        \n",
    "    def tearDown(self):\n",
    "        print('Tear Down')\n",
    "        \n",
    "    def test_Outliers(self): #test case \n",
    "       \n",
    "        self.assertIs(type(self.d1.Outliers()), type((2,3))) #check that it returns a tuple\n",
    "        \n",
    "        #check that they are lists, since the function that inherits this class will can only take lists \n",
    "        self.assertIs(type(self.a1) and type(self.b1), type([])) \n",
    "         \n",
    "        \n",
    "        #check for equal\n",
    "        self.assertEqual(self.d1.Outliers(), ([11, 53, 58], [345000, 385000, 438780])) \n",
    "        self.assertEqual(self.d2.Outliers(), ([41, 53, 66, 75], [16905, 50271, 19900, 1596]))\n",
    "        \n",
    "        #check outliers in the series if they match the index\n",
    "        for i in self.a1:\n",
    "            self.assertIn(s1[i], self.b1)\n",
    "            \n",
    "\n",
    "        \n",
    "    def test_DropOutliers(self): #test case\n",
    "        #check the Outlier function could be used since there is inheritance\n",
    "        self.assertEqual(self.d3.Outliers(), ([11, 53, 58], [345000, 385000, 438780]))\n",
    "        self.assertEqual(self.d4.Outliers(), ([41, 53, 66, 75], [16905, 50271, 19900, 1596]))\n",
    "        \n",
    "        #check\n",
    "        self.assertIs(type(self.d3.DropOutliers()), type(df)) #check that it returns a dataframe\n",
    "        \n",
    "        #I will only do two of the dataframe equilvalence checks since it's slightly complicated to clean data\n",
    "        assert_frame_equal(self.d3.DropOutliers(), nooutliers1) #test with pandas testing for dataframe\n",
    "        assert_frame_equal(self.d5.DropOutliers(), nooutliers2) #test with pandas testing for dataframe\n",
    "        \n",
    "    @classmethod\n",
    "    def tearDownClass(cls):\n",
    "        print('teardownClass')\n",
    "    \n",
    "unittest.main(argv=[''], verbosity=2, exit=False)   "
   ]
  },
  {
   "cell_type": "markdown",
   "metadata": {},
   "source": [
    "# unittest 2\n",
    "* testing the training.py file from the statswrangler module"
   ]
  },
  {
   "cell_type": "code",
   "execution_count": 64,
   "metadata": {
    "collapsed": true
   },
   "outputs": [],
   "source": [
    "import statswrangler.training as tr\n",
    "import pandas as pd\n",
    "import unittest\n",
    "from pandas.util.testing import assert_frame_equal"
   ]
  },
  {
   "cell_type": "markdown",
   "metadata": {},
   "source": [
    "# Import data\n",
    "* there would be data imported for the class\n",
    "* the multiple test and train data imported would be used to test the SplitTrain function, which splits a dataset after shuffling into a train and test set. "
   ]
  },
  {
   "cell_type": "code",
   "execution_count": 65,
   "metadata": {},
   "outputs": [
    {
     "name": "stderr",
     "output_type": "stream",
     "text": [
      "test_DropOutliers (__main__.TestOutlierdrop) ... ok\n",
      "test_Outliers (__main__.TestOutlierdrop) ... ok\n",
      "test_SplitTrain (__main__.TestTraining) ... "
     ]
    },
    {
     "name": "stdout",
     "output_type": "stream",
     "text": [
      "setUpClass\n",
      "Set Up\n",
      "Tear Down\n",
      "Set Up\n",
      "Tear Down\n",
      "teardownClass\n",
      "setUpClass\n",
      "Set Up\n",
      "Tear Down\n",
      "teardownClass\n"
     ]
    },
    {
     "name": "stderr",
     "output_type": "stream",
     "text": [
      "ok\n",
      "\n",
      "----------------------------------------------------------------------\n",
      "Ran 3 tests in 0.276s\n",
      "\n",
      "OK\n"
     ]
    },
    {
     "data": {
      "text/plain": [
       "<unittest.main.TestProgram at 0x11481abe0>"
      ]
     },
     "execution_count": 65,
     "metadata": {},
     "output_type": "execute_result"
    }
   ],
   "source": [
    "#since training.py uses the .sample() function it is required to set seed or df.sample(random_state=1) to set seed as 1\n",
    "#I have already modified the training.py module code so that it is df.sample(random_state=1)\n",
    "#or else it will always be checking a random result, which would result in a Fail \n",
    "\n",
    "\n",
    "df0 = pd.read_csv(\"train.csv\")\n",
    "df1 = df0[0:30] #dataframe (will only use a subset dataset too big)\n",
    "\n",
    "\n",
    "#some data cleaning before using the dataset\n",
    "df1 = df1.drop(\"PoolQC\", axis = 1) #since mostly NaN\n",
    "df1 = df1.drop(\"Alley\", axis = 1) #since mostly NaN\n",
    "df1 = df1.drop(\"MiscFeature\", axis = 1) #since mostly NaN\n",
    "\n",
    "df2 = df0[30:60]\n",
    "df2 = df2.drop(\"PoolQC\", axis = 1) \n",
    "df2 = df2.drop(\"Alley\", axis = 1)\n",
    "df2 = df2.drop(\"MiscFeature\", axis = 1)\n",
    "\n",
    "#testing data for the test class\n",
    "tr1 = pd.read_csv(\"train1.csv\", index_col=\"Unnamed: 0\")\n",
    "tt1 = pd.read_csv(\"test1.csv\", index_col=\"Unnamed: 0\")\n",
    "\n",
    "tr2 = pd.read_csv(\"train2.csv\", index_col=\"Unnamed: 0\")\n",
    "tt2 = pd.read_csv(\"test2.csv\", index_col=\"Unnamed: 0\")\n",
    "\n",
    "tr3 = pd.read_csv(\"train3.csv\", index_col=\"Unnamed: 0\")\n",
    "tt3 = pd.read_csv(\"test3.csv\", index_col=\"Unnamed: 0\")\n",
    "\n",
    "\n",
    "# In[110]:\n",
    "\n",
    "\n",
    "class TestTraining(unittest.TestCase):\n",
    "    @classmethod\n",
    "    def setUpClass(cls):\n",
    "        print(\"setUpClass\")\n",
    "        \n",
    "    \n",
    "    def setUp(self):\n",
    "        self.together = tr.TrainingData(df1).SplitTrain()\n",
    "        self.train1, self.test1 = tr.TrainingData(df1).SplitTrain()\n",
    "        self.train2, self.test2 = tr.TrainingData(df2).SplitTrain()\n",
    "        self.train3, self.test3 = tr.TrainingData(df2,0.8).SplitTrain()\n",
    "        print('Set Up')\n",
    "        \n",
    "    \n",
    "\n",
    "    def test_SplitTrain(self): #test case\n",
    "        #check if the function SplitTrain() returns a tuple \n",
    "        self.assertIs(type(self.together), type((2,2)) )\n",
    "        \n",
    "        #check if what is inside the tuple is a dataframe\n",
    "        self.assertIs(type(self.train1), type(df1) )\n",
    "        \n",
    "        #test with pandas testing for dataframe\n",
    "        #test each training and test set\n",
    "        assert_frame_equal(self.train1, tr1)\n",
    "        assert_frame_equal(self.test1, tt1) \n",
    "        \n",
    "        assert_frame_equal(self.train2, tr2) \n",
    "        assert_frame_equal(self.test2, tt2) \n",
    "        \n",
    "        assert_frame_equal(self.train3, tr3) \n",
    "        assert_frame_equal(self.test3, tt3) \n",
    "        \n",
    "    def tearDown(self):\n",
    "        print('Tear Down')\n",
    "        \n",
    "    @classmethod\n",
    "    def tearDownClass(cls):\n",
    "        print('teardownClass')\n",
    "unittest.main(argv=[''], verbosity=2, exit=False)   "
   ]
  },
  {
   "cell_type": "markdown",
   "metadata": {},
   "source": [
    "# Test suite "
   ]
  },
  {
   "cell_type": "code",
   "execution_count": 66,
   "metadata": {},
   "outputs": [
    {
     "name": "stderr",
     "output_type": "stream",
     "text": [
      "."
     ]
    },
    {
     "name": "stdout",
     "output_type": "stream",
     "text": [
      "setUpClass\n",
      "Set Up\n",
      "Tear Down\n",
      "teardownClass\n",
      "setUpClass\n",
      "Set Up\n"
     ]
    },
    {
     "name": "stderr",
     "output_type": "stream",
     "text": [
      "."
     ]
    },
    {
     "name": "stdout",
     "output_type": "stream",
     "text": [
      "Tear Down\n"
     ]
    },
    {
     "name": "stderr",
     "output_type": "stream",
     "text": [
      "."
     ]
    },
    {
     "name": "stdout",
     "output_type": "stream",
     "text": [
      "Set Up\n",
      "Tear Down\n",
      "teardownClass\n",
      "<unittest.runner.TextTestResult run=3 errors=0 failures=0>\n"
     ]
    },
    {
     "name": "stderr",
     "output_type": "stream",
     "text": [
      "\n",
      "----------------------------------------------------------------------\n",
      "Ran 3 tests in 0.254s\n",
      "\n",
      "OK\n"
     ]
    }
   ],
   "source": [
    "def my_suite():\n",
    "    suite = unittest.TestSuite()\n",
    "    result = unittest.TestResult()\n",
    "    suite.addTest(unittest.makeSuite(TestTraining))\n",
    "    suite.addTest(unittest.makeSuite(TestOutlierdrop))\n",
    "    runner = unittest.TextTestRunner()\n",
    "    print(runner.run(suite))\n",
    "my_suite()"
   ]
  }
 ],
 "metadata": {
  "kernelspec": {
   "display_name": "Python 3",
   "language": "python",
   "name": "python3"
  },
  "language_info": {
   "codemirror_mode": {
    "name": "ipython",
    "version": 3
   },
   "file_extension": ".py",
   "mimetype": "text/x-python",
   "name": "python",
   "nbconvert_exporter": "python",
   "pygments_lexer": "ipython3",
   "version": "3.6.1"
  }
 },
 "nbformat": 4,
 "nbformat_minor": 2
}
