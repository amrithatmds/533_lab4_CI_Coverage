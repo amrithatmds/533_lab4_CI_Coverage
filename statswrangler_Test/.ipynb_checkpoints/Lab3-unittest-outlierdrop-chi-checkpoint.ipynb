{
 "cells": [
  {
   "cell_type": "code",
   "execution_count": 16,
   "metadata": {
    "collapsed": true
   },
   "outputs": [],
   "source": [
    "import outlierdrop as od\n",
    "import pandas as pd"
   ]
  },
  {
   "cell_type": "code",
   "execution_count": 17,
   "metadata": {
    "collapsed": true,
    "scrolled": false
   },
   "outputs": [],
   "source": [
    "df = pd.read_csv(\"train.csv\")\n",
    "\n",
    "df = df[0:100] #dataframe (will only use a subset dataset too big)\n",
    "df = df.drop(\"PoolQC\", axis = 1)\n",
    "s1 = df[\"SalePrice\"] #series 1 using column SalePrice\n",
    "s2 = df[\"LotArea\"] #series 2 using LotArea\n",
    "\n",
    "nooutliers1 = pd.read_csv(\"withnooutliers.csv\", index_col = \"Unnamed: 0\")#this dataset has the outliers in SalePrice columnn removed\n",
    "nooutliers1 = nooutliers1.drop(\"PoolQC\", axis =1)\n",
    "#will be used in our test case as correct resutlt\n",
    "\n",
    "\n",
    "#threshold =2 only 2 oultliers removed\n",
    "nooutliers2 = pd.read_csv(\"withnooutliers2.csv\",index_col = \"Unnamed: 0\")#, index_col = \"Unnamed: 0\")#this dataset has the outliers in SalePrice columnn removed"
   ]
  },
  {
   "cell_type": "code",
   "execution_count": 18,
   "metadata": {
    "collapsed": true
   },
   "outputs": [],
   "source": [
    "import unittest\n",
    "from pandas.util.testing import assert_frame_equal"
   ]
  },
  {
   "cell_type": "code",
   "execution_count": 19,
   "metadata": {},
   "outputs": [
    {
     "name": "stderr",
     "output_type": "stream",
     "text": [
      "test_DropOutliers (__main__.TestOutlierdrop) ... ok\n",
      "test_Outliers (__main__.TestOutlierdrop) ... "
     ]
    },
    {
     "name": "stdout",
     "output_type": "stream",
     "text": [
      "setUpClass\n",
      "Set Up\n",
      "Tear Down\n",
      "Set Up\n",
      "Tear Down\n",
      "teardownClass\n"
     ]
    },
    {
     "name": "stderr",
     "output_type": "stream",
     "text": [
      "ok\n",
      "\n",
      "----------------------------------------------------------------------\n",
      "Ran 2 tests in 0.089s\n",
      "\n",
      "OK\n"
     ]
    },
    {
     "data": {
      "text/plain": [
       "<unittest.main.TestProgram at 0x115bd3240>"
      ]
     },
     "execution_count": 19,
     "metadata": {},
     "output_type": "execute_result"
    }
   ],
   "source": [
    "class TestOutlierdrop(unittest.TestCase):\n",
    "    @classmethod\n",
    "    def setUpClass(cls):\n",
    "        print(\"setUpClass\")\n",
    "    @classmethod\n",
    "    def tearDownClass(cls):\n",
    "        print('teardownClass')\n",
    "    def setUp(self):\n",
    "        self.d1 = od.Data(s1,df)\n",
    "        self.d2 = od.Data(s2,df)\n",
    "        self.d3 = od.Dropped(s1,df)\n",
    "        self.d4 = od.Dropped(s2,df)\n",
    "        self.d5 = od.Dropped(s1,df, threshold = 2) #with threshold = 2\n",
    "        print('Set Up')\n",
    "        \n",
    "    def tearDown(self):\n",
    "        print('Tear Down')\n",
    "        \n",
    "    def test_Outliers(self): #test case \n",
    "        self.assertEqual(self.d1.Outliers(), ([11, 53, 58], [345000, 385000, 438780])) \n",
    "        self.assertEqual(self.d2.Outliers(), ([41, 53, 66, 75], [16905, 50271, 19900, 1596]))\n",
    "\n",
    "    def test_DropOutliers(self): #test case\n",
    "        self.assertEqual(self.d3.Outliers(), ([11, 53, 58], [345000, 385000, 438780]))\n",
    "        self.assertEqual(self.d4.Outliers(), ([41, 53, 66, 75], [16905, 50271, 19900, 1596]))\n",
    "        #check that Outlier function could be used since there is inheritance\n",
    "        assert_frame_equal(self.d3.DropOutliers(), nooutliers1) #test with pandas testing for dataframe\n",
    "        assert_frame_equal(self.d5.DropOutliers(), nooutliers2) #test with pandas testing for dataframe\n",
    "    \n",
    "    \n",
    "unittest.main(argv=[''], verbosity=2, exit=False)   "
   ]
  }
 ],
 "metadata": {
  "kernelspec": {
   "display_name": "Python 3",
   "language": "python",
   "name": "python3"
  },
  "language_info": {
   "codemirror_mode": {
    "name": "ipython",
    "version": 3
   },
   "file_extension": ".py",
   "mimetype": "text/x-python",
   "name": "python",
   "nbconvert_exporter": "python",
   "pygments_lexer": "ipython3",
   "version": "3.6.1"
  }
 },
 "nbformat": 4,
 "nbformat_minor": 2
}
