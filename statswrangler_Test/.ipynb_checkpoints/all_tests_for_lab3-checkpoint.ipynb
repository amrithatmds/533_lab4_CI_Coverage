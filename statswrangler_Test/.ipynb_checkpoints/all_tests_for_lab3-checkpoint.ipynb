{
 "cells": [
  {
   "cell_type": "markdown",
   "metadata": {},
   "source": [
    "# unittest 1\n",
    "\n",
    "* Testing the outlierdrop.py file originaly in the statswranger module"
   ]
  },
  {
   "cell_type": "code",
   "execution_count": 8,
   "metadata": {},
   "outputs": [],
   "source": [
    "import statswrangler.outlierdrop as od\n",
    "import pandas as pd"
   ]
  },
  {
   "cell_type": "code",
   "execution_count": 9,
   "metadata": {
    "collapsed": true
   },
   "outputs": [],
   "source": [
    "df = pd.read_csv(\"train.csv\")\n",
    "\n",
    "#data cleaning for test case checking later\n",
    "\n",
    "df = df[0:100] #dataframe (will only use a subset dataset too big)\n",
    "df = df.drop(\"PoolQC\", axis = 1)\n",
    "s1 = df[\"SalePrice\"] #series 1 using column SalePrice\n",
    "s2 = df[\"LotArea\"] #series 2 using LotArea\n",
    "\n",
    "nooutliers1 = pd.read_csv(\"withnooutliers.csv\", index_col = \"Unnamed: 0\")#this dataset has the outliers in SalePrice columnn removed\n",
    "nooutliers1 = nooutliers1.drop(\"PoolQC\", axis =1)\n",
    "#will be used in our test case as correct resutlt\n",
    "\n",
    "\n",
    "#threshold =2 only 2 oultliers removed\n",
    "nooutliers2 = pd.read_csv(\"withnooutliers2.csv\",index_col = \"Unnamed: 0\")#, index_col = \"Unnamed: 0\")#this dataset has the outliers in SalePrice columnn removed"
   ]
  },
  {
   "cell_type": "code",
   "execution_count": 10,
   "metadata": {
    "collapsed": true
   },
   "outputs": [],
   "source": [
    "import unittest\n",
    "from pandas.util.testing import assert_frame_equal"
   ]
  },
  {
   "cell_type": "code",
   "execution_count": 11,
   "metadata": {},
   "outputs": [
    {
     "name": "stderr",
     "output_type": "stream",
     "text": [
      "test_DropOutliers (__main__.TestOutlierdrop) ... ok\n",
      "test_Outliers (__main__.TestOutlierdrop) ... ok\n",
      "test_SplitTrain (__main__.TestTraining) ... "
     ]
    },
    {
     "name": "stdout",
     "output_type": "stream",
     "text": [
      "setUpClass\n",
      "Set Up\n",
      "Tear Down\n",
      "Set Up\n",
      "Tear Down\n",
      "teardownClass\n",
      "setUpClass\n",
      "Set Up\n",
      "Tear Down\n",
      "teardownClass\n"
     ]
    },
    {
     "name": "stderr",
     "output_type": "stream",
     "text": [
      "ok\n",
      "\n",
      "----------------------------------------------------------------------\n",
      "Ran 3 tests in 0.256s\n",
      "\n",
      "OK\n"
     ]
    },
    {
     "data": {
      "text/plain": [
       "<unittest.main.TestProgram at 0x10a221a90>"
      ]
     },
     "execution_count": 11,
     "metadata": {},
     "output_type": "execute_result"
    }
   ],
   "source": [
    "class TestOutlierdrop(unittest.TestCase):\n",
    "    @classmethod\n",
    "    def setUpClass(cls):\n",
    "        print(\"setUpClass\")\n",
    "    @classmethod\n",
    "    def tearDownClass(cls):\n",
    "        print('teardownClass')\n",
    "    def setUp(self):\n",
    "        self.d1 = od.Data(s1,df)\n",
    "        self.d2 = od.Data(s2,df)\n",
    "        self.d3 = od.Dropped(s1,df)\n",
    "        self.d4 = od.Dropped(s2,df)\n",
    "        self.d5 = od.Dropped(s1,df, threshold = 2) #with threshold = 2\n",
    "        print('Set Up')\n",
    "        \n",
    "    def tearDown(self):\n",
    "        print('Tear Down')\n",
    "        \n",
    "    def test_Outliers(self): #test case \n",
    "        self.assertEqual(self.d1.Outliers(), ([11, 53, 58], [345000, 385000, 438780])) \n",
    "        self.assertEqual(self.d2.Outliers(), ([41, 53, 66, 75], [16905, 50271, 19900, 1596]))\n",
    "\n",
    "    def test_DropOutliers(self): #test case\n",
    "        #check the Outlier function could be used since there is inheritance\n",
    "        self.assertEqual(self.d3.Outliers(), ([11, 53, 58], [345000, 385000, 438780]))\n",
    "        self.assertEqual(self.d4.Outliers(), ([41, 53, 66, 75], [16905, 50271, 19900, 1596]))\n",
    "        \n",
    "        assert_frame_equal(self.d3.DropOutliers(), nooutliers1) #test with pandas testing for dataframe\n",
    "        assert_frame_equal(self.d5.DropOutliers(), nooutliers2) #test with pandas testing for dataframe\n",
    "    \n",
    "    \n",
    "unittest.main(argv=[''], verbosity=2, exit=False)   "
   ]
  },
  {
   "cell_type": "markdown",
   "metadata": {},
   "source": [
    "# unittest 2\n",
    "* testing the training.py file from the statswrangler module"
   ]
  },
  {
   "cell_type": "code",
   "execution_count": 12,
   "metadata": {},
   "outputs": [
    {
     "name": "stderr",
     "output_type": "stream",
     "text": [
      "test_DropOutliers (__main__.TestOutlierdrop) ... ok\n",
      "test_Outliers (__main__.TestOutlierdrop) ... "
     ]
    },
    {
     "name": "stdout",
     "output_type": "stream",
     "text": [
      "setUpClass\n",
      "Set Up\n",
      "Tear Down\n",
      "Set Up\n"
     ]
    },
    {
     "name": "stderr",
     "output_type": "stream",
     "text": [
      "ok\n",
      "test_SplitTrain (__main__.TestTraining) ... "
     ]
    },
    {
     "name": "stdout",
     "output_type": "stream",
     "text": [
      "Tear Down\n",
      "teardownClass\n",
      "setUpClass\n",
      "Set Up\n",
      "Tear Down\n",
      "teardownClass\n"
     ]
    },
    {
     "name": "stderr",
     "output_type": "stream",
     "text": [
      "ok\n",
      "\n",
      "----------------------------------------------------------------------\n",
      "Ran 3 tests in 0.253s\n",
      "\n",
      "OK\n"
     ]
    },
    {
     "data": {
      "text/plain": [
       "<unittest.main.TestProgram at 0x10a1ffa90>"
      ]
     },
     "execution_count": 12,
     "metadata": {},
     "output_type": "execute_result"
    }
   ],
   "source": [
    "import statswrangler.training as tr\n",
    "import pandas as pd\n",
    "import unittest\n",
    "from pandas.util.testing import assert_frame_equal\n",
    "\n",
    "\n",
    "#since it uses the .sample() function it is required to set seed or df.sample(random_state=1) to set seed as 1 \n",
    "#we will have to alter the module or else the test would fail \n",
    "\n",
    "\n",
    "# In[109]:\n",
    "\n",
    "\n",
    "df0 = pd.read_csv(\"train.csv\")\n",
    "df1 = df0[0:30] #dataframe (will only use a subset dataset too big)\n",
    "\n",
    "\n",
    "#some data cleaning before using the dataset\n",
    "df1 = df1.drop(\"PoolQC\", axis = 1) #since mostly NaN\n",
    "df1 = df1.drop(\"Alley\", axis = 1) #since mostly NaN\n",
    "df1 = df1.drop(\"MiscFeature\", axis = 1) #since mostly NaN\n",
    "\n",
    "df2 = df0[30:60]\n",
    "df2 = df2.drop(\"PoolQC\", axis = 1) \n",
    "df2 = df2.drop(\"Alley\", axis = 1)\n",
    "df2 = df2.drop(\"MiscFeature\", axis = 1)\n",
    "\n",
    "#testing data for the test class\n",
    "tr1 = pd.read_csv(\"train1.csv\", index_col=\"Unnamed: 0\")\n",
    "tt1 = pd.read_csv(\"test1.csv\", index_col=\"Unnamed: 0\")\n",
    "\n",
    "tr2 = pd.read_csv(\"train2.csv\", index_col=\"Unnamed: 0\")\n",
    "tt2 = pd.read_csv(\"test2.csv\", index_col=\"Unnamed: 0\")\n",
    "\n",
    "tr3 = pd.read_csv(\"train3.csv\", index_col=\"Unnamed: 0\")\n",
    "tt3 = pd.read_csv(\"test3.csv\", index_col=\"Unnamed: 0\")\n",
    "\n",
    "\n",
    "# In[110]:\n",
    "\n",
    "\n",
    "class TestTraining(unittest.TestCase):\n",
    "    @classmethod\n",
    "    def setUpClass(cls):\n",
    "        print(\"setUpClass\")\n",
    "        \n",
    "    @classmethod\n",
    "    def tearDownClass(cls):\n",
    "        print('teardownClass')\n",
    "    def setUp(self):\n",
    "        self.train1, self.test1 = tr.TrainingData(df1).SplitTrain()\n",
    "        self.train2, self.test2 = tr.TrainingData(df2).SplitTrain()\n",
    "        self.train3, self.test3 = tr.TrainingData(df2,0.8).SplitTrain()\n",
    "        print('Set Up')\n",
    "        \n",
    "    def tearDown(self):\n",
    "        print('Tear Down')\n",
    "\n",
    "    def test_SplitTrain(self): #test case\n",
    "        assert_frame_equal(self.train1, tr1) #test with pandas testing for dataframe\n",
    "        assert_frame_equal(self.test1, tt1) \n",
    "        \n",
    "        assert_frame_equal(self.train2, tr2) \n",
    "        assert_frame_equal(self.test2, tt2) \n",
    "        \n",
    "        assert_frame_equal(self.train3, tr3) \n",
    "        assert_frame_equal(self.test3, tt3) \n",
    "        \n",
    "unittest.main(argv=[''], verbosity=2, exit=False)   \n",
    "\n",
    "\n",
    "# In[ ]:"
   ]
  },
  {
   "cell_type": "markdown",
   "metadata": {},
   "source": [
    "# Test suite "
   ]
  },
  {
   "cell_type": "code",
   "execution_count": 13,
   "metadata": {},
   "outputs": [
    {
     "name": "stdout",
     "output_type": "stream",
     "text": [
      "setUpClass\n",
      "Set Up\n"
     ]
    },
    {
     "name": "stderr",
     "output_type": "stream",
     "text": [
      "."
     ]
    },
    {
     "name": "stdout",
     "output_type": "stream",
     "text": [
      "Tear Down\n",
      "teardownClass\n",
      "setUpClass\n",
      "Set Up\n"
     ]
    },
    {
     "name": "stderr",
     "output_type": "stream",
     "text": [
      ".."
     ]
    },
    {
     "name": "stdout",
     "output_type": "stream",
     "text": [
      "Tear Down\n",
      "Set Up\n",
      "Tear Down\n",
      "teardownClass\n",
      "<unittest.runner.TextTestResult run=3 errors=0 failures=0>\n"
     ]
    },
    {
     "name": "stderr",
     "output_type": "stream",
     "text": [
      "\n",
      "----------------------------------------------------------------------\n",
      "Ran 3 tests in 0.244s\n",
      "\n",
      "OK\n"
     ]
    }
   ],
   "source": [
    "def my_suite():\n",
    "    suite = unittest.TestSuite()\n",
    "    result = unittest.TestResult()\n",
    "    suite.addTest(unittest.makeSuite(TestTraining))\n",
    "    suite.addTest(unittest.makeSuite(TestOutlierdrop))\n",
    "    runner = unittest.TextTestRunner()\n",
    "    print(runner.run(suite))\n",
    "my_suite()"
   ]
  },
  {
   "cell_type": "code",
   "execution_count": null,
   "metadata": {
    "collapsed": true
   },
   "outputs": [],
   "source": []
  },
  {
   "cell_type": "code",
   "execution_count": null,
   "metadata": {
    "collapsed": true
   },
   "outputs": [],
   "source": []
  },
  {
   "cell_type": "code",
   "execution_count": null,
   "metadata": {
    "collapsed": true
   },
   "outputs": [],
   "source": []
  },
  {
   "cell_type": "code",
   "execution_count": null,
   "metadata": {
    "collapsed": true
   },
   "outputs": [],
   "source": []
  }
 ],
 "metadata": {
  "kernelspec": {
   "display_name": "Python 3",
   "language": "python",
   "name": "python3"
  },
  "language_info": {
   "codemirror_mode": {
    "name": "ipython",
    "version": 3
   },
   "file_extension": ".py",
   "mimetype": "text/x-python",
   "name": "python",
   "nbconvert_exporter": "python",
   "pygments_lexer": "ipython3",
   "version": "3.6.1"
  }
 },
 "nbformat": 4,
 "nbformat_minor": 2
}
